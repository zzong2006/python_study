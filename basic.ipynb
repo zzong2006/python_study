{
 "cells": [
  {
   "cell_type": "markdown",
   "metadata": {
    "collapsed": true,
    "pycharm": {
     "name": "#%% md\n"
    }
   },
   "source": [
    "`filter` 함수\n",
    "\n",
    "주어진 함수에 맞춰서 iterable 객체에 대한 데이터를 걸러주고, 리스트 내 나머지 값들에 대한 iterator를 반환하는 함수"
   ]
  },
  {
   "cell_type": "code",
   "execution_count": 1,
   "outputs": [
    {
     "name": "stdout",
     "output_type": "stream",
     "text": [
      "<class 'list'>\n",
      "-1\n",
      "-2\n",
      "-3\n",
      "-4\n"
     ]
    }
   ],
   "source": [
    "# filter 함수\n",
    "\n",
    "ls = [1,2,3,4,-1,-2,-3,-4]\n",
    "\n",
    "print(type(filter(lambda x: x < 0, ls).__dir__()))\n",
    "\n",
    "for i in filter(lambda x: x < 0, ls):\n",
    "    print(i)"
   ],
   "metadata": {
    "collapsed": false,
    "pycharm": {
     "name": "#%%\n"
    }
   }
  },
  {
   "cell_type": "markdown",
   "source": [
    "`reduce` 함수\n",
    "\n",
    "iterable 객체에 대해서 반복적으로 주어진 함수의 연산을 적용\n",
    "\n",
    "일반적으로 두 변수 `a`와 `b`를 받아서 처리한다."
   ],
   "metadata": {
    "collapsed": false,
    "pycharm": {
     "name": "#%% md\n"
    }
   }
  },
  {
   "cell_type": "code",
   "execution_count": 8,
   "outputs": [
    {
     "name": "stdout",
     "output_type": "stream",
     "text": [
      "15\n",
      "abcde\n"
     ]
    }
   ],
   "source": [
    "from functools import reduce\n",
    "\n",
    "ls = [1,2,3,4,5]\n",
    "print(reduce(lambda x, y: x + y, ls)) # 1 + 2 + 3 + 4 + 5\n",
    "print(reduce(lambda x, y: x + y, 'abcde'))"
   ],
   "metadata": {
    "collapsed": false,
    "pycharm": {
     "name": "#%%\n"
    }
   }
  },
  {
   "cell_type": "markdown",
   "source": [
    "`chain` 함수\n",
    "\n",
    "여러개의 iterable를 받고, iterable 데이터를 모두 풀어서 return 하는 generator를 구성함"
   ],
   "metadata": {
    "collapsed": false,
    "pycharm": {
     "name": "#%% md\n"
    }
   }
  },
  {
   "cell_type": "code",
   "execution_count": 6,
   "outputs": [
    {
     "name": "stdout",
     "output_type": "stream",
     "text": [
      "('a',) ('b',) ('c',) ('a', 'b') ('a', 'c') ('b', 'c') ('a', 'b', 'c') "
     ]
    }
   ],
   "source": [
    "from itertools import chain, combinations\n",
    "\n",
    "elements = ['a', 'b', 'c']\n",
    "result = chain(*[combinations(elements, i) for i in range(1, len(elements) + 1)])\n",
    "\n",
    "for k in result:\n",
    "    print(k, end= ' ')"
   ],
   "metadata": {
    "collapsed": false,
    "pycharm": {
     "name": "#%%\n"
    }
   }
  },
  {
   "cell_type": "markdown",
   "source": [
    "list comprehension if 구문 사용하기\n"
   ],
   "metadata": {
    "collapsed": false,
    "pycharm": {
     "name": "#%% md\n"
    }
   }
  },
  {
   "cell_type": "code",
   "execution_count": 24,
   "outputs": [
    {
     "name": "stdout",
     "output_type": "stream",
     "text": [
      "frozenset({'grape', 'apple'})\n",
      "frozenset({'strawberry', 'grape', 'pear', 'apple'})\n",
      "frozenset({'grape', 'pear', 'apple'})\n",
      "frozenset({'apple', 'grape', 'pear', 'strawberry'})\n",
      "frozenset({'pear', 'strawberry'})\n",
      "frozenset({'grape', 'pear', 'strawberry'})\n",
      "frozenset({'grape', 'pear', 'apple'})\n",
      "frozenset({'grape', 'pear', 'strawberry'})\n",
      "frozenset({'grape', 'pear'})\n",
      "LENGTH = 2\n",
      "frozenset({'grape', 'apple'})\n",
      "frozenset({'pear', 'strawberry'})\n",
      "frozenset({'grape', 'pear'})\n"
     ]
    }
   ],
   "source": [
    "itemSet = [frozenset(['apple', 'grape']),\n",
    "           frozenset(['pear', 'strawberry']),\n",
    "           frozenset(['pear', 'grape'])]\n",
    "# itemSet 내부에 있는 모든 집합들의 union 조합\n",
    "for temp in [x.union(y) for x in itemSet for y in itemSet]:\n",
    "    print(temp)\n",
    "\n",
    "length = 2\n",
    "print('LENGTH = {}'.format(length))\n",
    "# 특정 길이의 조합만 추출 (union 계산을 두번 하기 때문에 조금 비효율적이기도 한것 같음)\n",
    "for temp in [x.union(y) for x in itemSet for y in itemSet if len(x.union(y)) == length]:\n",
    "    print(temp)"
   ],
   "metadata": {
    "collapsed": false,
    "pycharm": {
     "name": "#%%\n"
    }
   }
  },
  {
   "cell_type": "markdown",
   "source": [
    "## 정규 표현식 `re`"
   ],
   "metadata": {
    "collapsed": false,
    "pycharm": {
     "name": "#%% md\n"
    }
   }
  },
  {
   "cell_type": "markdown",
   "source": [
    "`re.match`"
   ],
   "metadata": {
    "collapsed": false,
    "pycharm": {
     "name": "#%% md\n"
    }
   }
  },
  {
   "cell_type": "code",
   "execution_count": null,
   "outputs": [],
   "source": [
    "import re\n",
    "idx = re.match('Hel', 'Hello') #각 문자의 앞에서 부터 매칭을 찾는다.\n",
    "print(idx)\n",
    "idx = re.match('lo', 'Hello')\n",
    "print(idx)"
   ],
   "metadata": {
    "collapsed": false,
    "pycharm": {
     "name": "#%%\n"
    }
   }
  },
  {
   "cell_type": "code",
   "execution_count": null,
   "outputs": [],
   "source": [
    "# 문자열|문자열 어떤 문자열이라도 매칭되는지 확인\n",
    "print(re.match('hello|world', 'hello'))"
   ],
   "metadata": {
    "collapsed": false,
    "pycharm": {
     "name": "#%%\n"
    }
   }
  },
  {
   "cell_type": "markdown",
   "source": [
    "문자열이 숫자로 이루어졌는지 확인하기.\n",
    "* `*` : [] 대괄호 안 범위에 있는 문자가 0개 이상있는가?\n",
    "* `+` : [] 대괄호 안 범위에 있는 문자가 1개 이상있는가?"
   ],
   "metadata": {
    "collapsed": false,
    "pycharm": {
     "name": "#%% md\n"
    }
   }
  },
  {
   "cell_type": "code",
   "execution_count": null,
   "outputs": [],
   "source": [
    "print(re.match('[0-9]+', 'aaaa'))\n",
    "print(re.match('[0-9]+', '12aaaa'))\n",
    "print(re.match('[0-9]*', '1234'))"
   ],
   "metadata": {
    "collapsed": false,
    "pycharm": {
     "name": "#%%\n"
    }
   }
  },
  {
   "cell_type": "markdown",
   "source": [
    "`re.search`"
   ],
   "metadata": {
    "collapsed": false,
    "pycharm": {
     "name": "#%% md\n"
    }
   }
  },
  {
   "cell_type": "code",
   "execution_count": null,
   "outputs": [],
   "source": [
    "# ^문자열: 문자열이 맨 앞에 오는지 판단\n",
    "# 문자열$: 문자열이 맨 뒤에 오는지 판단\n",
    "print(re.search('^He', 'Hello'))\n",
    "print(re.search('^lo', 'Hello'))\n",
    "# Hello가 He로 끝나는가? 또는 lo로 끝나는가?\n",
    "print(re.search('He$', 'Hello'))\n",
    "print(re.search('lo$', 'Hello'))\n"
   ],
   "metadata": {
    "collapsed": false,
    "pycharm": {
     "name": "#%%\n"
    }
   }
  }
 ],
 "metadata": {
  "kernelspec": {
   "display_name": "Python 3",
   "language": "python",
   "name": "python3"
  },
  "language_info": {
   "codemirror_mode": {
    "name": "ipython",
    "version": 2
   },
   "file_extension": ".py",
   "mimetype": "text/x-python",
   "name": "python",
   "nbconvert_exporter": "python",
   "pygments_lexer": "ipython2",
   "version": "2.7.6"
  }
 },
 "nbformat": 4,
 "nbformat_minor": 0
}